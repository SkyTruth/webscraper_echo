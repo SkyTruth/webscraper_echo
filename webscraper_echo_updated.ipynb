{
 "cells": [
  {
   "cell_type": "code",
   "execution_count": 1,
   "metadata": {},
   "outputs": [],
   "source": [
    "from __future__ import absolute_import\n",
    "from datetime import datetime, timedelta, date\n",
    "import hashlib\n",
    "import requests\n",
    "import os\n",
    "import sys\n",
    "from os.path import *\n",
    "import urllib\n",
    "import xlrd\n",
    "sys.path.insert(0, '../')\n",
    "try:\n",
    "    from bs4 import (\n",
    "        BeautifulSoup, Tag, Comment, ProcessingInstruction, NavigableString,\n",
    "        Declaration, Doctype)\n",
    "    _DECLARATION_OR_DOCTYPE = (Declaration, Doctype)\n",
    "except ImportError:\n",
    "    from BeautifulSoup import (\n",
    "        BeautifulSoup, Tag, Comment, ProcessingInstruction, NavigableString,\n",
    "        Declaration)\n",
    "    _DECLARATION_OR_DOCTYPE = Declaration\n",
    "from selenium import webdriver\n",
    "from selenium.webdriver.common.keys import Keys\n",
    "from selenium.webdriver.support.ui import Select\n",
    "from selenium.webdriver.support.ui import WebDriverWait\n",
    "from selenium.webdriver.support import expected_conditions as cond\n",
    "from selenium.common.exceptions import NoAlertPresentException\n",
    "from selenium.common.exceptions import TimeoutException\n",
    "from selenium.webdriver.common.by import By\n",
    "from selenium.common.exceptions import NoSuchElementException\n",
    "from selenium.webdriver.common.desired_capabilities import DesiredCapabilities\n",
    "from pyvirtualdisplay.display import Display\n",
    "from selenium.webdriver.common.by import By\n",
    "from selenium.webdriver.support.ui import Select\n",
    "import time #using this library to pause or \"sleep\" program"
   ]
  },
  {
   "cell_type": "code",
   "execution_count": null,
   "metadata": {},
   "outputs": [],
   "source": [
    "#Steps (broad overview)\n",
    "#1. login to gmail (use skytruth email)\n",
    "#2. open correct email (Echo Notify - need to make an account)\n",
    "#3. Scrape email (get more into this later - first let's focus on basics)"
   ]
  },
  {
   "cell_type": "code",
   "execution_count": 52,
   "metadata": {},
   "outputs": [
    {
     "name": "stderr",
     "output_type": "stream",
     "text": [
      "C:\\Users\\Tatiana\\AppData\\Local\\Temp\\ipykernel_31476\\2567143633.py:2: DeprecationWarning: executable_path has been deprecated, please pass in a Service object\n",
      "  driver=webdriver.Firefox(executable_path=f'C:\\Drivers\\FirefoxDriver\\geckodriver.exe')\n"
     ]
    }
   ],
   "source": [
    "#Open gmail - set up driver, navigate to website \n",
    "driver=webdriver.Firefox(executable_path=f'C:\\Drivers\\FirefoxDriver\\geckodriver.exe')\n",
    "driver.implicitly_wait(60) # seconds\n",
    "driver.maximize_window()\n",
    "driver.get('https://mail.google.com')\n",
    "#driver.get('https://echo.epa.gov/detailed-facility-report?fid=110020506460') #for testing purposes - will remove later. goes straight to webpage (this is what I had to do when I was having the issue with the link in the email taking me to a blank screen - the webscraper code still works on this webpage)"
   ]
  },
  {
   "cell_type": "code",
   "execution_count": 5,
   "metadata": {},
   "outputs": [],
   "source": [
    "#Login to gmail - enter username, press next, enter password"
   ]
  },
  {
   "cell_type": "code",
   "execution_count": 53,
   "metadata": {},
   "outputs": [],
   "source": [
    "#enter username\n",
    "driver.find_element(By.ID, \"identifierId\").send_keys(\"tatiana@skytruth.org\") #enter your username \n",
    "#click the 'next' button\n",
    "driver.find_element(By.ID, \"identifierNext\").click()"
   ]
  },
  {
   "cell_type": "code",
   "execution_count": 54,
   "metadata": {},
   "outputs": [],
   "source": [
    "#enter password\n",
    "driver.find_element(By.NAME, \"Passwd\").send_keys(\"#########\") #enter your password\n",
    "#click the 'next' button \n",
    "driver.find_element(By.ID, \"passwordNext\").click()"
   ]
  },
  {
   "cell_type": "code",
   "execution_count": null,
   "metadata": {},
   "outputs": [],
   "source": [
    "#may need to manually enter a verification code and press \"next\" button to complete login."
   ]
  },
  {
   "cell_type": "code",
   "execution_count": null,
   "metadata": {},
   "outputs": [],
   "source": [
    "#need to add a \"wait\" here, because usually get sent an email about a security alert, and then the following code has errors executing."
   ]
  },
  {
   "cell_type": "code",
   "execution_count": 56,
   "metadata": {},
   "outputs": [
    {
     "name": "stdout",
     "output_type": "stream",
     "text": [
      "Email clicked: EPA ECHO Notify: Air Results for SEP 24, 2022 - OCT 01, 2022\n"
     ]
    }
   ],
   "source": [
    "#Will eventually need to edit this to comb through  multiple pages if necesssary, if desired email is not on first page.\n",
    "email_titles=driver.find_elements(By.XPATH, \"//span[@class='bog']\") #create list; all email subjects are of class 'bog'\n",
    "for title in email_titles: #now comb through list; if email subject matches our desired email subject, click the email.\n",
    "    if title.text == \"EPA ECHO Notify: Air Results for SEP 24, 2022 - OCT 01, 2022\": #if the subject in the list matches our desired email subject...\n",
    "        subject=title.text\n",
    "        title.click()\n",
    "        print(\"Email clicked:\", subject)\n",
    "        \n",
    "    "
   ]
  },
  {
   "cell_type": "code",
   "execution_count": 57,
   "metadata": {},
   "outputs": [],
   "source": [
    "#click on link\n",
    "#Notes: The <a> tag defines a hyperlink, which is used to link from one page to another.\n",
    "#The most important attribute of the <a> element is the href attribute, which indicates the link's destination.\n",
    "\n",
    "#will need to find a way to automate this process rather than having to manually enter the link text. \n",
    "driver.find_element(By.LINK_TEXT,'CABAA00006013A0010').click()"
   ]
  },
  {
   "cell_type": "code",
   "execution_count": 61,
   "metadata": {},
   "outputs": [
    {
     "ename": "NoSuchElementException",
     "evalue": "Message: Unable to locate element: /html[1]/body[1]/section[1]/div[1]/div[2]/div[1]/div[1]/div[2]/div[1]/div[1]/div[1]/div[1]/main[1]/div[1]/section[3]/section[1]/div[1]/section[1]/section[2]/div[1]/div[1]/h4[1]\nStacktrace:\nRemoteError@chrome://remote/content/shared/RemoteError.jsm:12:1\nWebDriverError@chrome://remote/content/shared/webdriver/Errors.jsm:192:5\nNoSuchElementError@chrome://remote/content/shared/webdriver/Errors.jsm:404:5\nelement.find/</<@chrome://remote/content/marionette/element.js:291:16\n",
     "output_type": "error",
     "traceback": [
      "\u001b[1;31m---------------------------------------------------------------------------\u001b[0m",
      "\u001b[1;31mNoSuchElementException\u001b[0m                    Traceback (most recent call last)",
      "\u001b[1;32mc:\\Users\\Tatiana\\OneDrive\\webscraper_echo_updated.ipynb Cell 11\u001b[0m in \u001b[0;36m<cell line: 2>\u001b[1;34m()\u001b[0m\n\u001b[0;32m      <a href='vscode-notebook-cell:/c%3A/Users/Tatiana/OneDrive/webscraper_echo_updated.ipynb#X21sZmlsZQ%3D%3D?line=0'>1</a>\u001b[0m \u001b[39m#test\u001b[39;00m\n\u001b[1;32m----> <a href='vscode-notebook-cell:/c%3A/Users/Tatiana/OneDrive/webscraper_echo_updated.ipynb#X21sZmlsZQ%3D%3D?line=1'>2</a>\u001b[0m tester\u001b[39m=\u001b[39mdriver\u001b[39m.\u001b[39;49mfind_element(By\u001b[39m.\u001b[39;49mXPATH, \u001b[39m\"\u001b[39;49m\u001b[39m/html[1]/body[1]/section[1]/div[1]/div[2]/div[1]/div[1]/div[2]/div[1]/div[1]/div[1]/div[1]/main[1]/div[1]/section[3]/section[1]/div[1]/section[1]/section[2]/div[1]/div[1]/h4[1]\u001b[39;49m\u001b[39m\"\u001b[39;49m)\u001b[39m.\u001b[39mtext\n\u001b[0;32m      <a href='vscode-notebook-cell:/c%3A/Users/Tatiana/OneDrive/webscraper_echo_updated.ipynb#X21sZmlsZQ%3D%3D?line=2'>3</a>\u001b[0m \u001b[39m#/html[1]/body[1]/section[1]/div[1]/div[2]/div[1]/div[1]/div[2]/div[1]/div[1]/div[1]/div[1]/main[1]/div[1]/section[3]/section[1]/div[1]/section[1]/section[2]/div[1]/div[1]/h4[1]\u001b[39;00m\n\u001b[0;32m      <a href='vscode-notebook-cell:/c%3A/Users/Tatiana/OneDrive/webscraper_echo_updated.ipynb#X21sZmlsZQ%3D%3D?line=3'>4</a>\u001b[0m \u001b[39mprint\u001b[39m(tester)\n",
      "File \u001b[1;32mc:\\Users\\Tatiana\\anaconda3\\lib\\site-packages\\selenium\\webdriver\\remote\\webdriver.py:856\u001b[0m, in \u001b[0;36mWebDriver.find_element\u001b[1;34m(self, by, value)\u001b[0m\n\u001b[0;32m    853\u001b[0m     by \u001b[39m=\u001b[39m By\u001b[39m.\u001b[39mCSS_SELECTOR\n\u001b[0;32m    854\u001b[0m     value \u001b[39m=\u001b[39m \u001b[39m'\u001b[39m\u001b[39m[name=\u001b[39m\u001b[39m\"\u001b[39m\u001b[39m%s\u001b[39;00m\u001b[39m\"\u001b[39m\u001b[39m]\u001b[39m\u001b[39m'\u001b[39m \u001b[39m%\u001b[39m value\n\u001b[1;32m--> 856\u001b[0m \u001b[39mreturn\u001b[39;00m \u001b[39mself\u001b[39;49m\u001b[39m.\u001b[39;49mexecute(Command\u001b[39m.\u001b[39;49mFIND_ELEMENT, {\n\u001b[0;32m    857\u001b[0m     \u001b[39m'\u001b[39;49m\u001b[39musing\u001b[39;49m\u001b[39m'\u001b[39;49m: by,\n\u001b[0;32m    858\u001b[0m     \u001b[39m'\u001b[39;49m\u001b[39mvalue\u001b[39;49m\u001b[39m'\u001b[39;49m: value})[\u001b[39m'\u001b[39m\u001b[39mvalue\u001b[39m\u001b[39m'\u001b[39m]\n",
      "File \u001b[1;32mc:\\Users\\Tatiana\\anaconda3\\lib\\site-packages\\selenium\\webdriver\\remote\\webdriver.py:429\u001b[0m, in \u001b[0;36mWebDriver.execute\u001b[1;34m(self, driver_command, params)\u001b[0m\n\u001b[0;32m    427\u001b[0m response \u001b[39m=\u001b[39m \u001b[39mself\u001b[39m\u001b[39m.\u001b[39mcommand_executor\u001b[39m.\u001b[39mexecute(driver_command, params)\n\u001b[0;32m    428\u001b[0m \u001b[39mif\u001b[39;00m response:\n\u001b[1;32m--> 429\u001b[0m     \u001b[39mself\u001b[39;49m\u001b[39m.\u001b[39;49merror_handler\u001b[39m.\u001b[39;49mcheck_response(response)\n\u001b[0;32m    430\u001b[0m     response[\u001b[39m'\u001b[39m\u001b[39mvalue\u001b[39m\u001b[39m'\u001b[39m] \u001b[39m=\u001b[39m \u001b[39mself\u001b[39m\u001b[39m.\u001b[39m_unwrap_value(\n\u001b[0;32m    431\u001b[0m         response\u001b[39m.\u001b[39mget(\u001b[39m'\u001b[39m\u001b[39mvalue\u001b[39m\u001b[39m'\u001b[39m, \u001b[39mNone\u001b[39;00m))\n\u001b[0;32m    432\u001b[0m     \u001b[39mreturn\u001b[39;00m response\n",
      "File \u001b[1;32mc:\\Users\\Tatiana\\anaconda3\\lib\\site-packages\\selenium\\webdriver\\remote\\errorhandler.py:243\u001b[0m, in \u001b[0;36mErrorHandler.check_response\u001b[1;34m(self, response)\u001b[0m\n\u001b[0;32m    241\u001b[0m         alert_text \u001b[39m=\u001b[39m value[\u001b[39m'\u001b[39m\u001b[39malert\u001b[39m\u001b[39m'\u001b[39m]\u001b[39m.\u001b[39mget(\u001b[39m'\u001b[39m\u001b[39mtext\u001b[39m\u001b[39m'\u001b[39m)\n\u001b[0;32m    242\u001b[0m     \u001b[39mraise\u001b[39;00m exception_class(message, screen, stacktrace, alert_text)  \u001b[39m# type: ignore[call-arg]  # mypy is not smart enough here\u001b[39;00m\n\u001b[1;32m--> 243\u001b[0m \u001b[39mraise\u001b[39;00m exception_class(message, screen, stacktrace)\n",
      "\u001b[1;31mNoSuchElementException\u001b[0m: Message: Unable to locate element: /html[1]/body[1]/section[1]/div[1]/div[2]/div[1]/div[1]/div[2]/div[1]/div[1]/div[1]/div[1]/main[1]/div[1]/section[3]/section[1]/div[1]/section[1]/section[2]/div[1]/div[1]/h4[1]\nStacktrace:\nRemoteError@chrome://remote/content/shared/RemoteError.jsm:12:1\nWebDriverError@chrome://remote/content/shared/webdriver/Errors.jsm:192:5\nNoSuchElementError@chrome://remote/content/shared/webdriver/Errors.jsm:404:5\nelement.find/</<@chrome://remote/content/marionette/element.js:291:16\n"
     ]
    }
   ],
   "source": [
    "#test \n",
    "#tester=driver.find_element(By.XPATH, \"/html[1]/body[1]/section[1]/div[1]/div[2]/div[1]/div[1]/div[2]/div[1]/div[1]/div[1]/div[1]/main[1]/div[1]/section[3]/section[1]/div[1]/section[1]/section[2]/div[1]/div[1]/h4[1]\").text\n",
    "#/html[1]/body[1]/section[1]/div[1]/div[2]/div[1]/div[1]/div[2]/div[1]/div[1]/div[1]/div[1]/main[1]/div[1]/section[3]/section[1]/div[1]/section[1]/section[2]/div[1]/div[1]/h4[1]\n",
    "#print(tester)"
   ]
  },
  {
   "cell_type": "code",
   "execution_count": 50,
   "metadata": {},
   "outputs": [
    {
     "name": "stdout",
     "output_type": "stream",
     "text": [
      "CHEVRON REFINERY RICHMOND\n"
     ]
    }
   ],
   "source": [
    "#test\n",
    "#facility_address=driver.find_element(By.XPATH, \"//section[@class='echo-subsection echo-grid-two-thirds']/div[@class='echo-grid-one-half']/div/h4\").text\n",
    "#print(facility_address)"
   ]
  },
  {
   "cell_type": "code",
   "execution_count": 18,
   "metadata": {},
   "outputs": [
    {
     "ename": "NoSuchElementException",
     "evalue": "Message: Unable to locate element: //section[@class='echo-subsection echo-grid-two-thirds']/div[@class='echo-grid-one-half']/div[@class='mobile-hide']\nStacktrace:\nRemoteError@chrome://remote/content/shared/RemoteError.jsm:12:1\nWebDriverError@chrome://remote/content/shared/webdriver/Errors.jsm:192:5\nNoSuchElementError@chrome://remote/content/shared/webdriver/Errors.jsm:404:5\nelement.find/</<@chrome://remote/content/marionette/element.js:291:16\n",
     "output_type": "error",
     "traceback": [
      "\u001b[1;31m---------------------------------------------------------------------------\u001b[0m",
      "\u001b[1;31mNoSuchElementException\u001b[0m                    Traceback (most recent call last)",
      "\u001b[1;32mc:\\Users\\Tatiana\\OneDrive\\webscraper_echo_updated.ipynb Cell 13\u001b[0m in \u001b[0;36m<cell line: 3>\u001b[1;34m()\u001b[0m\n\u001b[0;32m      <a href='vscode-notebook-cell:/c%3A/Users/Tatiana/OneDrive/webscraper_echo_updated.ipynb#X13sZmlsZQ%3D%3D?line=0'>1</a>\u001b[0m \u001b[39m#there's probably a more sophisticated way to do this... i'll think about it. \u001b[39;00m\n\u001b[1;32m----> <a href='vscode-notebook-cell:/c%3A/Users/Tatiana/OneDrive/webscraper_echo_updated.ipynb#X13sZmlsZQ%3D%3D?line=2'>3</a>\u001b[0m facility_address\u001b[39m=\u001b[39mdriver\u001b[39m.\u001b[39;49mfind_element(By\u001b[39m.\u001b[39;49mXPATH, \u001b[39m\"\u001b[39;49m\u001b[39m//section[@class=\u001b[39;49m\u001b[39m'\u001b[39;49m\u001b[39mecho-subsection echo-grid-two-thirds\u001b[39;49m\u001b[39m'\u001b[39;49m\u001b[39m]/div[@class=\u001b[39;49m\u001b[39m'\u001b[39;49m\u001b[39mecho-grid-one-half\u001b[39;49m\u001b[39m'\u001b[39;49m\u001b[39m]/div[@class=\u001b[39;49m\u001b[39m'\u001b[39;49m\u001b[39mmobile-hide\u001b[39;49m\u001b[39m'\u001b[39;49m\u001b[39m]\u001b[39;49m\u001b[39m\"\u001b[39;49m)\u001b[39m.\u001b[39mtext\n\u001b[0;32m      <a href='vscode-notebook-cell:/c%3A/Users/Tatiana/OneDrive/webscraper_echo_updated.ipynb#X13sZmlsZQ%3D%3D?line=3'>4</a>\u001b[0m \u001b[39mprint\u001b[39m(facility_address)\n",
      "File \u001b[1;32mc:\\Users\\Tatiana\\anaconda3\\lib\\site-packages\\selenium\\webdriver\\remote\\webdriver.py:856\u001b[0m, in \u001b[0;36mWebDriver.find_element\u001b[1;34m(self, by, value)\u001b[0m\n\u001b[0;32m    853\u001b[0m     by \u001b[39m=\u001b[39m By\u001b[39m.\u001b[39mCSS_SELECTOR\n\u001b[0;32m    854\u001b[0m     value \u001b[39m=\u001b[39m \u001b[39m'\u001b[39m\u001b[39m[name=\u001b[39m\u001b[39m\"\u001b[39m\u001b[39m%s\u001b[39;00m\u001b[39m\"\u001b[39m\u001b[39m]\u001b[39m\u001b[39m'\u001b[39m \u001b[39m%\u001b[39m value\n\u001b[1;32m--> 856\u001b[0m \u001b[39mreturn\u001b[39;00m \u001b[39mself\u001b[39;49m\u001b[39m.\u001b[39;49mexecute(Command\u001b[39m.\u001b[39;49mFIND_ELEMENT, {\n\u001b[0;32m    857\u001b[0m     \u001b[39m'\u001b[39;49m\u001b[39musing\u001b[39;49m\u001b[39m'\u001b[39;49m: by,\n\u001b[0;32m    858\u001b[0m     \u001b[39m'\u001b[39;49m\u001b[39mvalue\u001b[39;49m\u001b[39m'\u001b[39;49m: value})[\u001b[39m'\u001b[39m\u001b[39mvalue\u001b[39m\u001b[39m'\u001b[39m]\n",
      "File \u001b[1;32mc:\\Users\\Tatiana\\anaconda3\\lib\\site-packages\\selenium\\webdriver\\remote\\webdriver.py:429\u001b[0m, in \u001b[0;36mWebDriver.execute\u001b[1;34m(self, driver_command, params)\u001b[0m\n\u001b[0;32m    427\u001b[0m response \u001b[39m=\u001b[39m \u001b[39mself\u001b[39m\u001b[39m.\u001b[39mcommand_executor\u001b[39m.\u001b[39mexecute(driver_command, params)\n\u001b[0;32m    428\u001b[0m \u001b[39mif\u001b[39;00m response:\n\u001b[1;32m--> 429\u001b[0m     \u001b[39mself\u001b[39;49m\u001b[39m.\u001b[39;49merror_handler\u001b[39m.\u001b[39;49mcheck_response(response)\n\u001b[0;32m    430\u001b[0m     response[\u001b[39m'\u001b[39m\u001b[39mvalue\u001b[39m\u001b[39m'\u001b[39m] \u001b[39m=\u001b[39m \u001b[39mself\u001b[39m\u001b[39m.\u001b[39m_unwrap_value(\n\u001b[0;32m    431\u001b[0m         response\u001b[39m.\u001b[39mget(\u001b[39m'\u001b[39m\u001b[39mvalue\u001b[39m\u001b[39m'\u001b[39m, \u001b[39mNone\u001b[39;00m))\n\u001b[0;32m    432\u001b[0m     \u001b[39mreturn\u001b[39;00m response\n",
      "File \u001b[1;32mc:\\Users\\Tatiana\\anaconda3\\lib\\site-packages\\selenium\\webdriver\\remote\\errorhandler.py:243\u001b[0m, in \u001b[0;36mErrorHandler.check_response\u001b[1;34m(self, response)\u001b[0m\n\u001b[0;32m    241\u001b[0m         alert_text \u001b[39m=\u001b[39m value[\u001b[39m'\u001b[39m\u001b[39malert\u001b[39m\u001b[39m'\u001b[39m]\u001b[39m.\u001b[39mget(\u001b[39m'\u001b[39m\u001b[39mtext\u001b[39m\u001b[39m'\u001b[39m)\n\u001b[0;32m    242\u001b[0m     \u001b[39mraise\u001b[39;00m exception_class(message, screen, stacktrace, alert_text)  \u001b[39m# type: ignore[call-arg]  # mypy is not smart enough here\u001b[39;00m\n\u001b[1;32m--> 243\u001b[0m \u001b[39mraise\u001b[39;00m exception_class(message, screen, stacktrace)\n",
      "\u001b[1;31mNoSuchElementException\u001b[0m: Message: Unable to locate element: //section[@class='echo-subsection echo-grid-two-thirds']/div[@class='echo-grid-one-half']/div[@class='mobile-hide']\nStacktrace:\nRemoteError@chrome://remote/content/shared/RemoteError.jsm:12:1\nWebDriverError@chrome://remote/content/shared/webdriver/Errors.jsm:192:5\nNoSuchElementError@chrome://remote/content/shared/webdriver/Errors.jsm:404:5\nelement.find/</<@chrome://remote/content/marionette/element.js:291:16\n"
     ]
    }
   ],
   "source": [
    "#the following code is no longer working on the webpage\n",
    "#the url of the tester facility has changed from https://echo.epa.gov/detailed-facility-report?fid=110020506460 to https://echo.epa.gov/detailed-facility-report?fid=CABAA00006013A0010\n",
    "#the following code works on the former link, but not the current link.\n",
    "#the hyperlink provided in the email now leads to the latter link where the scraper is not working.\n",
    "\n",
    "#facility_address=driver.find_element(By.XPATH, \"//section[@class='echo-subsection echo-grid-two-thirds']/div[@class='echo-grid-one-half']/div[@class='mobile-hide']\").text\n",
    "#print(facility_address)\n",
    "\n",
    "#frs_id=driver.find_element(By.XPATH, \"//section[@class='echo-subsection echo-grid-two-thirds']/div[@class='echo-grid-one-half']/dl/div/dd\").text\n",
    "#print(\"FRS ID: \"+ frs_id)\n",
    "\n",
    "#epa_region=driver.find_element(By.XPATH, \"//section[@class='echo-subsection echo-grid-two-thirds']/div[@class='echo-grid-one-half']/dl/div[2]/dd\").text\n",
    "#print(\"EPA Region: \"+ epa_region)\n",
    "\n",
    "#lat=driver.find_element(By.XPATH, \"//section[@class='echo-subsection echo-grid-two-thirds']/div[@class='echo-grid-one-half']/dl/div[3]/dd\").text\n",
    "#print(\"Latitude: \"+ lat)\n",
    "\n",
    "#long=driver.find_element(By.XPATH, \"//section[@class='echo-subsection echo-grid-two-thirds']/div[@class='echo-grid-one-half']/dl/div[4]/dd\").text\n",
    "#print(\"Longitude: \"+ long)\n",
    "\n",
    "#locational_data_source=driver.find_element(By.XPATH, \"//section[@class='echo-subsection echo-grid-two-thirds']/div[@class='echo-grid-one-half']/dl/div[5]/dd\").text\n",
    "#print(\"Locational Data Source: \"+ locational_data_source)\n",
    "\n",
    "#industries=driver.find_element(By.XPATH, \"//section[@class='echo-subsection echo-grid-two-thirds']/div[@class='echo-grid-one-half']/dl/div[6]/dd\").text\n",
    "#print(\"Industries: \"+ industries)\n",
    "\n",
    "#indian_country_y_or_n=driver.find_element(By.XPATH, \"//section[@class='echo-subsection echo-grid-two-thirds']/div[@class='echo-grid-one-half']/dl/div[7]/dd\").text\n",
    "#print(\"Indian country: \"+ indian_country_y_or_n)"
   ]
  }
 ],
 "metadata": {
  "kernelspec": {
   "display_name": "Python 3.9.12 ('base')",
   "language": "python",
   "name": "python3"
  },
  "language_info": {
   "codemirror_mode": {
    "name": "ipython",
    "version": 3
   },
   "file_extension": ".py",
   "mimetype": "text/x-python",
   "name": "python",
   "nbconvert_exporter": "python",
   "pygments_lexer": "ipython3",
   "version": "3.9.12"
  },
  "orig_nbformat": 4,
  "vscode": {
   "interpreter": {
    "hash": "ed8e88c9092603f5c604b52f358e31b84ef56c994a59054b7891a45d175e344d"
   }
  }
 },
 "nbformat": 4,
 "nbformat_minor": 2
}
